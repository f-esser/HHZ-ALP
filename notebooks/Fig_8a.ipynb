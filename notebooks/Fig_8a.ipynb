{
 "cells": [
  {
   "cell_type": "code",
   "execution_count": 1,
   "id": "33586981-507d-4188-b295-fe52dcc34f01",
   "metadata": {},
   "outputs": [],
   "source": [
    "import pandas as pd\n",
    "import datetime\n",
    "import seaborn as sns\n",
    "import matplotlib.pyplot as plt\n",
    "from matplotlib import rcParams\n",
    "plt.rcParams['text.usetex'] = True\n",
    "plt.rcParams['text.latex.preamble'] = r'\\usepackage{lmodern}'  # Usar Latin Modern Roman\n",
    "rcParams['font.family'] = 'serif'\n",
    "rcParams['font.serif'] = ['Latin Modern Roman']\n",
    "import numpy as np\n",
    "from tensorflow import keras\n",
    "#sns.set_style('dark')\n",
    "plt.rcParams['font.size'] = 16\n",
    "import json\n",
    "import os\n",
    "import copy\n",
    "from IPython.display import display, HTML\n",
    "\n",
    "# from sklearn.metrics import mean_squared_error\n",
    "# from sklearn.metrics import r2_score\n",
    "\n",
    "import scipy as sp\n",
    "from scipy.optimize import curve_fit\n",
    "\n",
    "import uproot\n",
    "import awkward as ak\n",
    "\n",
    "import awkward as ak\n",
    "import matplotlib.pyplot as plt\n",
    "import hist\n",
    "import math\n",
    "import numpy as np\n",
    "import vector\n",
    "import pylhe\n",
    "import seaborn as sns\n",
    "from matplotlib import colormaps"
   ]
  },
  {
   "cell_type": "code",
   "execution_count": 2,
   "id": "88c56b09-5bb9-4412-8da8-f1c310cae4dc",
   "metadata": {},
   "outputs": [
    {
     "data": {
      "text/plain": [
       "'/Users/esser/Documents/PROJECTS/ALPsPheno/ALP HHZ/notebooks'"
      ]
     },
     "execution_count": 2,
     "metadata": {},
     "output_type": "execute_result"
    }
   ],
   "source": [
    "os.getcwd()"
   ]
  },
  {
   "cell_type": "code",
   "execution_count": 12,
   "id": "40872e95-c291-4095-8e99-ecd224b80759",
   "metadata": {},
   "outputs": [],
   "source": [
    "figure = '8a';"
   ]
  },
  {
   "cell_type": "code",
   "execution_count": 13,
   "id": "78db5e15-2025-469b-ae5f-917400acd4de",
   "metadata": {},
   "outputs": [],
   "source": [
    "path = '../data/Figure_';"
   ]
  },
  {
   "cell_type": "code",
   "execution_count": 3,
   "id": "46ef7527-ffbc-4985-8dc8-5236df2e6389",
   "metadata": {},
   "outputs": [],
   "source": [
    "bin_center = [200,450,550, 650, 750, 850, 950, 1050, 1150, 1250, 1350, 1450];"
   ]
  },
  {
   "cell_type": "code",
   "execution_count": 4,
   "id": "7f5bf5d7-4755-4cfc-a27e-81ea4b0dbc11",
   "metadata": {},
   "outputs": [],
   "source": [
    "bins = [0,400,500,600,700,800,900,1000,1100,1200,1300,1400,1500]"
   ]
  },
  {
   "cell_type": "code",
   "execution_count": 23,
   "id": "fd00032d-19af-4c7e-9e84-b74d767cb19a",
   "metadata": {},
   "outputs": [],
   "source": [
    "#data\n",
    "data = (pd.read_csv(figure.join((path, '/data.csv')),sep=',', header=None).values)[:,1]"
   ]
  },
  {
   "cell_type": "code",
   "execution_count": 24,
   "id": "9f207f83-0d3a-4b11-9c4b-aebc18ff729f",
   "metadata": {},
   "outputs": [],
   "source": [
    "# upper edge uncertainty bar data\n",
    "data_upper = (pd.read_csv(figure.join((path, '/data_upper.csv')),sep=',', header=None).values)[:,1]"
   ]
  },
  {
   "cell_type": "code",
   "execution_count": 25,
   "id": "9540e857-ca0c-43bd-9167-8c03fe76b363",
   "metadata": {},
   "outputs": [],
   "source": [
    "# lower edge uncertainty bar data\n",
    "data_lower = (pd.read_csv(figure.join((path, '/data_lower.csv')),sep=',', header=None).values)[:,1]"
   ]
  },
  {
   "cell_type": "code",
   "execution_count": 26,
   "id": "c094892d-1a5d-4938-9c61-81df14f094b0",
   "metadata": {},
   "outputs": [],
   "source": [
    "# background\n",
    "background = (pd.read_csv(figure.join((path, '/background.csv')),sep=',', header=None).values)[:,1]"
   ]
  },
  {
   "cell_type": "code",
   "execution_count": 27,
   "id": "d9205f65-4e43-48f3-ba52-616851e29f75",
   "metadata": {},
   "outputs": [],
   "source": [
    "# background plus uncertainty band\n",
    "background_unc = (pd.read_csv(figure.join((path, '/background_unc.csv')),sep=',', header=None).values)[:,1]"
   ]
  },
  {
   "cell_type": "code",
   "execution_count": 28,
   "id": "0eec9578-27a3-4e12-9eff-9f815c616390",
   "metadata": {},
   "outputs": [
    {
     "name": "stdout",
     "output_type": "stream",
     "text": [
      "[ 7.57912823 14.35521794  7.75004522  4.30276723 22.69849882 26.61873757\n",
      " 24.75040695 16.82944475 15.48742991 11.25067824 10.43407488 13.30349069]\n"
     ]
    }
   ],
   "source": [
    "print(data)"
   ]
  },
  {
   "cell_type": "code",
   "execution_count": 31,
   "id": "37d1b9d1-314a-497a-bb63-68eb70432fdf",
   "metadata": {},
   "outputs": [
    {
     "data": {
      "text/plain": [
       "<matplotlib.legend.Legend at 0x1658c6a20>"
      ]
     },
     "execution_count": 31,
     "metadata": {},
     "output_type": "execute_result"
    },
    {
     "data": {
      "image/png": "[encoded data removed]",
      "text/plain": [
       "<Figure size 640x480 with 1 Axes>"
      ]
     },
     "metadata": {},
     "output_type": "display_data"
    }
   ],
   "source": [
    "plt.bar(bins[:-1], background, width=np.diff(bins), align='edge', alpha=1, color='red',label='background')\n",
    "plt.bar(bins[:-1], background_unc, width=np.diff(bins), align='edge', alpha=0.3, color='red',label='background unc')\n",
    "plt.scatter(bin_center, data, color='black', label='data')\n",
    "plt.errorbar(bin_center, data, [data-data_lower, data_upper-data], color='black', alpha=1,fmt='none')\n",
    "plt.xlabel('$m_{HH}$ (GeV) ')\n",
    "plt.ylabel('events/bin')\n",
    "plt.title(figure.join(('Fig. ', ' data and background')))\n",
    "plt.legend()"
   ]
  },
  {
   "cell_type": "code",
   "execution_count": null,
   "id": "7ffff06d-7f56-4c49-9a8e-66216e38ab3f",
   "metadata": {},
   "outputs": [],
   "source": []
  }
 ],
 "metadata": {
  "kernelspec": {
   "display_name": "Python 3 (ipykernel)",
   "language": "python",
   "name": "python3"
  },
  "language_info": {
   "codemirror_mode": {
    "name": "ipython",
    "version": 3
   },
   "file_extension": ".py",
   "mimetype": "text/x-python",
   "name": "python",
   "nbconvert_exporter": "python",
   "pygments_lexer": "ipython3",
   "version": "3.12.2"
  }
 },
 "nbformat": 4,
 "nbformat_minor": 5
}
