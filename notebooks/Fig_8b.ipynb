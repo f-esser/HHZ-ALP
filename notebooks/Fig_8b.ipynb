{
 "cells": [
  {
   "cell_type": "code",
   "execution_count": 6,
   "id": "33586981-507d-4188-b295-fe52dcc34f01",
   "metadata": {},
   "outputs": [],
   "source": [
    "import pandas as pd\n",
    "import datetime\n",
    "import seaborn as sns\n",
    "import matplotlib.pyplot as plt\n",
    "from matplotlib import rcParams\n",
    "plt.rcParams['text.usetex'] = True\n",
    "plt.rcParams['text.latex.preamble'] = r'\\usepackage{lmodern}'  # Usar Latin Modern Roman\n",
    "rcParams['font.family'] = 'serif'\n",
    "rcParams['font.serif'] = ['Latin Modern Roman']\n",
    "import numpy as np\n",
    "from tensorflow import keras\n",
    "#sns.set_style('dark')\n",
    "plt.rcParams['font.size'] = 16\n",
    "import json\n",
    "import os\n",
    "import copy\n",
    "from IPython.display import display, HTML\n",
    "\n",
    "# from sklearn.metrics import mean_squared_error\n",
    "# from sklearn.metrics import r2_score\n",
    "\n",
    "import scipy as sp\n",
    "from scipy.optimize import curve_fit\n",
    "\n",
    "import uproot\n",
    "import awkward as ak\n",
    "\n",
    "import awkward as ak\n",
    "import matplotlib.pyplot as plt\n",
    "import hist\n",
    "import math\n",
    "import numpy as np\n",
    "import vector\n",
    "import pylhe\n",
    "import seaborn as sns\n",
    "from matplotlib import colormaps"
   ]
  },
  {
   "cell_type": "code",
   "execution_count": 2,
   "id": "88c56b09-5bb9-4412-8da8-f1c310cae4dc",
   "metadata": {},
   "outputs": [
    {
     "data": {
      "text/plain": [
       "'/Users/esser/Documents/PROJECTS/ALPsPheno/ALP HHZ/notebooks'"
      ]
     },
     "execution_count": 2,
     "metadata": {},
     "output_type": "execute_result"
    }
   ],
   "source": [
    "os.getcwd()"
   ]
  },
  {
   "cell_type": "code",
   "execution_count": 3,
   "id": "40872e95-c291-4095-8e99-ecd224b80759",
   "metadata": {},
   "outputs": [],
   "source": [
    "figure = '8b';"
   ]
  },
  {
   "cell_type": "code",
   "execution_count": 4,
   "id": "78db5e15-2025-469b-ae5f-917400acd4de",
   "metadata": {},
   "outputs": [],
   "source": [
    "path = '../data/Figure_';"
   ]
  },
  {
   "cell_type": "code",
   "execution_count": 14,
   "id": "72d26b2c-a6b5-4e6d-aea2-1e4a00ed0b8b",
   "metadata": {},
   "outputs": [
    {
     "name": "stdout",
     "output_type": "stream",
     "text": [
      "[256.24164492 297.18632631 336.87058374 378.34999045 417.38493857\n",
      " 458.67337195 499.82812401 539.58877077 579.40670953 618.8236043 ]\n"
     ]
    }
   ],
   "source": [
    "# proxy for the bin center\n",
    "bin_center = (pd.read_csv(figure.join((path, '/data.csv')),sep=',', header=None).values)[:,0]\n",
    "print(bin_center)"
   ]
  },
  {
   "cell_type": "code",
   "execution_count": 16,
   "id": "46ef7527-ffbc-4985-8dc8-5236df2e6389",
   "metadata": {},
   "outputs": [],
   "source": [
    "bin_center = [260,300,340,380,420,460,500,540,580,620];"
   ]
  },
  {
   "cell_type": "code",
   "execution_count": 17,
   "id": "7f5bf5d7-4755-4cfc-a27e-81ea4b0dbc11",
   "metadata": {},
   "outputs": [],
   "source": [
    "bins = [240,280,320,360,400,440,480,520,560,600,640]"
   ]
  },
  {
   "cell_type": "code",
   "execution_count": 18,
   "id": "fd00032d-19af-4c7e-9e84-b74d767cb19a",
   "metadata": {},
   "outputs": [],
   "source": [
    "#data\n",
    "data = (pd.read_csv(figure.join((path, '/data.csv')),sep=',', header=None).values)[:,1]"
   ]
  },
  {
   "cell_type": "code",
   "execution_count": 19,
   "id": "9f207f83-0d3a-4b11-9c4b-aebc18ff729f",
   "metadata": {},
   "outputs": [],
   "source": [
    "# upper edge uncertainty bar data\n",
    "data_upper = (pd.read_csv(figure.join((path, '/data_upper.csv')),sep=',', header=None).values)[:,1]"
   ]
  },
  {
   "cell_type": "code",
   "execution_count": 20,
   "id": "9540e857-ca0c-43bd-9167-8c03fe76b363",
   "metadata": {},
   "outputs": [],
   "source": [
    "# lower edge uncertainty bar data\n",
    "data_lower = (pd.read_csv(figure.join((path, '/data_lower.csv')),sep=',', header=None).values)[:,1]"
   ]
  },
  {
   "cell_type": "code",
   "execution_count": 21,
   "id": "c094892d-1a5d-4938-9c61-81df14f094b0",
   "metadata": {},
   "outputs": [],
   "source": [
    "# background\n",
    "background = (pd.read_csv(figure.join((path, '/background.csv')),sep=',', header=None).values)[:,1]"
   ]
  },
  {
   "cell_type": "code",
   "execution_count": 22,
   "id": "d9205f65-4e43-48f3-ba52-616851e29f75",
   "metadata": {},
   "outputs": [],
   "source": [
    "# background plus uncertainty band\n",
    "background_unc = (pd.read_csv(figure.join((path, '/background_unc.csv')),sep=',', header=None).values)[:,1]"
   ]
  },
  {
   "cell_type": "code",
   "execution_count": 23,
   "id": "0eec9578-27a3-4e12-9eff-9f815c616390",
   "metadata": {},
   "outputs": [
    {
     "name": "stdout",
     "output_type": "stream",
     "text": [
      "[53.84429308 58.57279267 29.01394105 22.83404418  6.52110255  4.23706156\n",
      "  4.68011968  3.56292571  1.27697498  7.1723216 ]\n"
     ]
    }
   ],
   "source": [
    "print(data)"
   ]
  },
  {
   "cell_type": "code",
   "execution_count": 25,
   "id": "37d1b9d1-314a-497a-bb63-68eb70432fdf",
   "metadata": {},
   "outputs": [
    {
     "data": {
      "text/plain": [
       "<matplotlib.legend.Legend at 0x1500ee360>"
      ]
     },
     "execution_count": 25,
     "metadata": {},
     "output_type": "execute_result"
    },
    {
     "data": {
      "image/png": "[encoded data removed]",
      "text/plain": [
       "<Figure size 640x480 with 1 Axes>"
      ]
     },
     "metadata": {},
     "output_type": "display_data"
    }
   ],
   "source": [
    "plt.bar(bins[:-1], background, width=np.diff(bins), align='edge', alpha=1, color='red',label='background')\n",
    "plt.bar(bins[:-1], background_unc, width=np.diff(bins), align='edge', alpha=0.3, color='red',label='background unc')\n",
    "plt.scatter(bin_center, data, color='black', label='data')\n",
    "plt.errorbar(bin_center, data, [data-data_lower, data_upper-data], color='black', alpha=1,fmt='none')\n",
    "plt.xlabel('$p_T(V)$ (GeV) ')\n",
    "plt.ylabel('events/bin')\n",
    "plt.title(figure.join(('Fig. ', ' data and background')))\n",
    "plt.legend()"
   ]
  },
  {
   "cell_type": "code",
   "execution_count": null,
   "id": "7ffff06d-7f56-4c49-9a8e-66216e38ab3f",
   "metadata": {},
   "outputs": [],
   "source": []
  }
 ],
 "metadata": {
  "kernelspec": {
   "display_name": "Python 3 (ipykernel)",
   "language": "python",
   "name": "python3"
  },
  "language_info": {
   "codemirror_mode": {
    "name": "ipython",
    "version": 3
   },
   "file_extension": ".py",
   "mimetype": "text/x-python",
   "name": "python",
   "nbconvert_exporter": "python",
   "pygments_lexer": "ipython3",
   "version": "3.12.2"
  }
 },
 "nbformat": 4,
 "nbformat_minor": 5
}
